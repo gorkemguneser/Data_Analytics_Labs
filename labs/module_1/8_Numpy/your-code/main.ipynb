{
 "cells": [
  {
   "cell_type": "markdown",
   "metadata": {
    "Collapsed": "false"
   },
   "source": [
    "# Intrduction to NumPy\n",
    "\n",
    "\n",
    "#### 1. Import NumPy under the name np."
   ]
  },
  {
   "cell_type": "code",
   "execution_count": 1,
   "metadata": {
    "Collapsed": "false"
   },
   "outputs": [],
   "source": [
    "# your code here\n",
    "\n",
    "import numpy as np\n",
    "import random"
   ]
  },
  {
   "cell_type": "markdown",
   "metadata": {
    "Collapsed": "false"
   },
   "source": [
    "#### 2. Print your NumPy version."
   ]
  },
  {
   "cell_type": "code",
   "execution_count": 2,
   "metadata": {
    "Collapsed": "false"
   },
   "outputs": [
    {
     "data": {
      "text/plain": [
       "'1.16.5'"
      ]
     },
     "execution_count": 2,
     "metadata": {},
     "output_type": "execute_result"
    }
   ],
   "source": [
    "# your code here\n",
    "\n",
    "np.version.version"
   ]
  },
  {
   "cell_type": "markdown",
   "metadata": {
    "Collapsed": "false"
   },
   "source": [
    "#### 3. Generate a 2x3x5 3-dimensional array with random values. Assign the array to variable *a*.\n",
    "**Challenge**: there are at least three easy ways that use numpy to generate random arrays. How many ways can you find?"
   ]
  },
  {
   "cell_type": "code",
   "execution_count": 3,
   "metadata": {
    "Collapsed": "false"
   },
   "outputs": [
    {
     "name": "stdout",
     "output_type": "stream",
     "text": [
      "[[[0.24436632 0.4110992  0.9554217  0.09901926 0.4877428 ]\n",
      "  [0.89100815 0.958066   0.06683232 0.69440176 0.43544276]\n",
      "  [0.98845931 0.04930461 0.24905542 0.67249346 0.68906229]]\n",
      "\n",
      " [[0.86428527 0.56652319 0.7398499  0.06397734 0.57773291]\n",
      "  [0.96060752 0.86905277 0.12083262 0.80734617 0.92755942]\n",
      "  [0.76268678 0.20845626 0.03244946 0.02401333 0.73319135]]]\n"
     ]
    }
   ],
   "source": [
    "# Method 1\n",
    "\n",
    "a = np.random.random((2,3,5))\n",
    "print(a)"
   ]
  },
  {
   "cell_type": "code",
   "execution_count": 4,
   "metadata": {
    "Collapsed": "false"
   },
   "outputs": [
    {
     "name": "stdout",
     "output_type": "stream",
     "text": [
      "[[[0.14563003 0.46846639 0.3121772  0.73504666 0.66567915]\n",
      "  [0.5517321  0.75507469 0.61766168 0.27617958 0.53116793]\n",
      "  [0.47506961 0.74368366 0.01126294 0.9508933  0.64057566]]\n",
      "\n",
      " [[0.6842503  0.01665702 0.925313   0.55389417 0.99943387]\n",
      "  [0.38101751 0.74698626 0.51172129 0.76389119 0.42821064]\n",
      "  [0.61188824 0.39764428 0.91853427 0.73417165 0.77880598]]]\n"
     ]
    }
   ],
   "source": [
    "# Method 2\n",
    "t = np.random.rand(2,3,5)\n",
    "print(t)"
   ]
  },
  {
   "cell_type": "code",
   "execution_count": 5,
   "metadata": {
    "Collapsed": "false"
   },
   "outputs": [
    {
     "name": "stdout",
     "output_type": "stream",
     "text": [
      "[[[2663 1647 9149 7671 4339]\n",
      "  [5228 8096 8687 1307 4650]\n",
      "  [8003 2216 5889  743 8498]]\n",
      "\n",
      " [[6593 3758 7207 5246 8703]\n",
      "  [9661 3028 8613 5659 5675]\n",
      "  [5988 2150 7279 8266 2098]]]\n",
      "[[[904 794 789 259 315]\n",
      "  [ 67  86 738 558 170]\n",
      "  [540 363 717 602 957]]\n",
      "\n",
      " [[240 739 291 388 919]\n",
      "  [161 148   8 771 164]\n",
      "  [641 982 155 668 464]]]\n"
     ]
    }
   ],
   "source": [
    "# Method 3\n",
    "u = np.random.choice(range(0,10000), size=(2,3,5))\n",
    "print(u)\n",
    "o = np.random.randint(1000, size=(2,3,5))\n",
    "print(o)"
   ]
  },
  {
   "cell_type": "markdown",
   "metadata": {
    "Collapsed": "false"
   },
   "source": [
    "#### 4. Print *a*.\n"
   ]
  },
  {
   "cell_type": "code",
   "execution_count": 6,
   "metadata": {
    "Collapsed": "false"
   },
   "outputs": [
    {
     "name": "stdout",
     "output_type": "stream",
     "text": [
      "[[[0.24436632 0.4110992  0.9554217  0.09901926 0.4877428 ]\n",
      "  [0.89100815 0.958066   0.06683232 0.69440176 0.43544276]\n",
      "  [0.98845931 0.04930461 0.24905542 0.67249346 0.68906229]]\n",
      "\n",
      " [[0.86428527 0.56652319 0.7398499  0.06397734 0.57773291]\n",
      "  [0.96060752 0.86905277 0.12083262 0.80734617 0.92755942]\n",
      "  [0.76268678 0.20845626 0.03244946 0.02401333 0.73319135]]]\n"
     ]
    }
   ],
   "source": [
    "# your code here\n",
    "print(a)"
   ]
  },
  {
   "cell_type": "markdown",
   "metadata": {
    "Collapsed": "false"
   },
   "source": [
    "#### 5. Create a 5x2x3 3-dimensional array with all values equaling 1. Assign the array to variable *b*."
   ]
  },
  {
   "cell_type": "code",
   "execution_count": 7,
   "metadata": {
    "Collapsed": "false"
   },
   "outputs": [],
   "source": [
    "# your code here\n",
    "b = np.ones((5,2,3))"
   ]
  },
  {
   "cell_type": "markdown",
   "metadata": {
    "Collapsed": "false"
   },
   "source": [
    "#### 6. Print *b*.\n"
   ]
  },
  {
   "cell_type": "code",
   "execution_count": 8,
   "metadata": {
    "Collapsed": "false"
   },
   "outputs": [
    {
     "name": "stdout",
     "output_type": "stream",
     "text": [
      "[[[1. 1. 1.]\n",
      "  [1. 1. 1.]]\n",
      "\n",
      " [[1. 1. 1.]\n",
      "  [1. 1. 1.]]\n",
      "\n",
      " [[1. 1. 1.]\n",
      "  [1. 1. 1.]]\n",
      "\n",
      " [[1. 1. 1.]\n",
      "  [1. 1. 1.]]\n",
      "\n",
      " [[1. 1. 1.]\n",
      "  [1. 1. 1.]]]\n"
     ]
    }
   ],
   "source": [
    "# your code here\n",
    "print(b)"
   ]
  },
  {
   "cell_type": "markdown",
   "metadata": {
    "Collapsed": "false"
   },
   "source": [
    "#### 7. Do *a* and *b* have the same size? How do you prove that in Python code?"
   ]
  },
  {
   "cell_type": "code",
   "execution_count": 9,
   "metadata": {
    "Collapsed": "false"
   },
   "outputs": [
    {
     "name": "stdout",
     "output_type": "stream",
     "text": [
      "30\n",
      "30\n"
     ]
    },
    {
     "data": {
      "text/plain": [
       "True"
      ]
     },
     "execution_count": 9,
     "metadata": {},
     "output_type": "execute_result"
    }
   ],
   "source": [
    "# your code here\n",
    "print(np.size(a))\n",
    "print(np.size(b))\n",
    "\n",
    "bool(np.size(a)==np.size(b))"
   ]
  },
  {
   "cell_type": "markdown",
   "metadata": {
    "Collapsed": "false"
   },
   "source": [
    "#### 8. Are you able to add *a* and *b*? Why or why not?\n"
   ]
  },
  {
   "cell_type": "code",
   "execution_count": 10,
   "metadata": {
    "Collapsed": "false"
   },
   "outputs": [
    {
     "name": "stdout",
     "output_type": "stream",
     "text": [
      "(2, 3, 5)\n",
      "(5, 2, 3)\n"
     ]
    }
   ],
   "source": [
    "# your answer here\n",
    "\n",
    "#Let's check their shapes for that first;\n",
    "\n",
    "\n",
    "print(np.shape(a))\n",
    "print(np.shape(b))\n",
    "\n",
    "#Since shapes are different we can not add a and b to each other.\n",
    "#Let's try..\n",
    "\n",
    "#c = a + b #nope.."
   ]
  },
  {
   "cell_type": "markdown",
   "metadata": {
    "Collapsed": "false"
   },
   "source": [
    "#### 9. Transpose *b* so that it has the same structure of *a* (i.e. become a 2x3x5 array). Assign the transposed array to variable *c*."
   ]
  },
  {
   "cell_type": "code",
   "execution_count": 11,
   "metadata": {
    "Collapsed": "false"
   },
   "outputs": [
    {
     "name": "stdout",
     "output_type": "stream",
     "text": [
      "(2, 3, 5)\n",
      "(5, 2, 3)\n",
      "(2, 3, 5)\n"
     ]
    }
   ],
   "source": [
    "# your code here\n",
    "print(np.shape(a))\n",
    "print(np.shape(b))\n",
    "c = np.transpose(b,(1,2,0))   #initial bshape=(5,2,3) so b=(5 (0th element),2 (1st element),3 (2nd element)) -->(b,(1,2,0))\n",
    "print(np.shape(c))"
   ]
  },
  {
   "cell_type": "markdown",
   "metadata": {
    "Collapsed": "false"
   },
   "source": [
    "#### 10. Try to add *a* and *c*. Now it should work. Assign the sum to variable *d*. But why does it work now?"
   ]
  },
  {
   "cell_type": "code",
   "execution_count": 12,
   "metadata": {
    "Collapsed": "false"
   },
   "outputs": [],
   "source": [
    "# your code/answer here\n",
    "#d=a+c\n",
    "d=np.add(a,c)\n",
    "\n",
    "#Shapes are same, so we can do math operations between two arrays."
   ]
  },
  {
   "cell_type": "markdown",
   "metadata": {
    "Collapsed": "false"
   },
   "source": [
    "#### 11. Print *a* and *d*. Notice the difference and relation of the two array in terms of the values? Explain."
   ]
  },
  {
   "cell_type": "code",
   "execution_count": 13,
   "metadata": {
    "Collapsed": "false"
   },
   "outputs": [
    {
     "name": "stdout",
     "output_type": "stream",
     "text": [
      "[[[0.24436632 0.4110992  0.9554217  0.09901926 0.4877428 ]\n",
      "  [0.89100815 0.958066   0.06683232 0.69440176 0.43544276]\n",
      "  [0.98845931 0.04930461 0.24905542 0.67249346 0.68906229]]\n",
      "\n",
      " [[0.86428527 0.56652319 0.7398499  0.06397734 0.57773291]\n",
      "  [0.96060752 0.86905277 0.12083262 0.80734617 0.92755942]\n",
      "  [0.76268678 0.20845626 0.03244946 0.02401333 0.73319135]]]\n",
      "[[[1.24436632 1.4110992  1.9554217  1.09901926 1.4877428 ]\n",
      "  [1.89100815 1.958066   1.06683232 1.69440176 1.43544276]\n",
      "  [1.98845931 1.04930461 1.24905542 1.67249346 1.68906229]]\n",
      "\n",
      " [[1.86428527 1.56652319 1.7398499  1.06397734 1.57773291]\n",
      "  [1.96060752 1.86905277 1.12083262 1.80734617 1.92755942]\n",
      "  [1.76268678 1.20845626 1.03244946 1.02401333 1.73319135]]]\n"
     ]
    }
   ],
   "source": [
    "# your code/answer here\n",
    "\n",
    "print(a)\n",
    "print(d)\n",
    "\n",
    "#1 is added over values in array a. (or vice versa - values in a is added to ones.array.)"
   ]
  },
  {
   "cell_type": "markdown",
   "metadata": {
    "Collapsed": "false"
   },
   "source": [
    "#### 12. Multiply *a* and *c*. Assign the result to *e*."
   ]
  },
  {
   "cell_type": "code",
   "execution_count": 14,
   "metadata": {
    "Collapsed": "false"
   },
   "outputs": [
    {
     "name": "stdout",
     "output_type": "stream",
     "text": [
      "[[[0.24436632 0.4110992  0.9554217  0.09901926 0.4877428 ]\n",
      "  [0.89100815 0.958066   0.06683232 0.69440176 0.43544276]\n",
      "  [0.98845931 0.04930461 0.24905542 0.67249346 0.68906229]]\n",
      "\n",
      " [[0.86428527 0.56652319 0.7398499  0.06397734 0.57773291]\n",
      "  [0.96060752 0.86905277 0.12083262 0.80734617 0.92755942]\n",
      "  [0.76268678 0.20845626 0.03244946 0.02401333 0.73319135]]]\n"
     ]
    }
   ],
   "source": [
    "# your code here\n",
    "\n",
    "#e = a * c\n",
    "\n",
    "e=np.multiply(a,c)\n",
    "print(e)"
   ]
  },
  {
   "cell_type": "markdown",
   "metadata": {
    "Collapsed": "false"
   },
   "source": [
    "#### 13. Does *e* equal to *a*? Why or why not?\n"
   ]
  },
  {
   "cell_type": "code",
   "execution_count": 15,
   "metadata": {
    "Collapsed": "false"
   },
   "outputs": [
    {
     "name": "stdout",
     "output_type": "stream",
     "text": [
      "[[[0.24436632 0.4110992  0.9554217  0.09901926 0.4877428 ]\n",
      "  [0.89100815 0.958066   0.06683232 0.69440176 0.43544276]\n",
      "  [0.98845931 0.04930461 0.24905542 0.67249346 0.68906229]]\n",
      "\n",
      " [[0.86428527 0.56652319 0.7398499  0.06397734 0.57773291]\n",
      "  [0.96060752 0.86905277 0.12083262 0.80734617 0.92755942]\n",
      "  [0.76268678 0.20845626 0.03244946 0.02401333 0.73319135]]]\n",
      "\n",
      "\n",
      "\n",
      "[[[0.24436632 0.4110992  0.9554217  0.09901926 0.4877428 ]\n",
      "  [0.89100815 0.958066   0.06683232 0.69440176 0.43544276]\n",
      "  [0.98845931 0.04930461 0.24905542 0.67249346 0.68906229]]\n",
      "\n",
      " [[0.86428527 0.56652319 0.7398499  0.06397734 0.57773291]\n",
      "  [0.96060752 0.86905277 0.12083262 0.80734617 0.92755942]\n",
      "  [0.76268678 0.20845626 0.03244946 0.02401333 0.73319135]]]\n"
     ]
    },
    {
     "data": {
      "text/plain": [
       "True"
      ]
     },
     "execution_count": 15,
     "metadata": {},
     "output_type": "execute_result"
    }
   ],
   "source": [
    "# your code/answer here\n",
    "print(a)\n",
    "print('\\n'*2)\n",
    "print(e)\n",
    "\n",
    "np.array_equal(a,e)"
   ]
  },
  {
   "cell_type": "markdown",
   "metadata": {
    "Collapsed": "false"
   },
   "source": [
    "#### 14. Identify the max, min, and mean values in *d*. Assign those values to variables *d_max*, *d_min* and *d_mean*."
   ]
  },
  {
   "cell_type": "code",
   "execution_count": 16,
   "metadata": {
    "Collapsed": "false"
   },
   "outputs": [
    {
     "name": "stdout",
     "output_type": "stream",
     "text": [
      "[[[1.24436632 1.4110992  1.9554217  1.09901926 1.4877428 ]\n",
      "  [1.89100815 1.958066   1.06683232 1.69440176 1.43544276]\n",
      "  [1.98845931 1.04930461 1.24905542 1.67249346 1.68906229]]\n",
      "\n",
      " [[1.86428527 1.56652319 1.7398499  1.06397734 1.57773291]\n",
      "  [1.96060752 1.86905277 1.12083262 1.80734617 1.92755942]\n",
      "  [1.76268678 1.20845626 1.03244946 1.02401333 1.73319135]]]\n",
      "\n",
      "\n",
      "1.9884593091369247\n",
      "1.0240133277471508\n",
      "1.5383446542882067\n",
      "\n",
      "\n",
      "Maximum value of d is 1.9884593091369247, minimum values is 1.0240133277471508, and mean of d is 1.5383446542882067.\n"
     ]
    }
   ],
   "source": [
    "# your code here\n",
    "print(d)\n",
    "\n",
    "d_max = d.max()\n",
    "d_min = d.min()\n",
    "d_mean = d.mean()\n",
    "\n",
    "print(\"\\n\")\n",
    "\n",
    "print(d_max)\n",
    "print(d_min)\n",
    "print(d_mean)\n",
    "\n",
    "print(\"\\n\")\n",
    "print(f\"Maximum value of d is {d_max}, minimum values is {d_min}, and mean of d is {d_mean}.\")"
   ]
  },
  {
   "cell_type": "markdown",
   "metadata": {
    "Collapsed": "false"
   },
   "source": [
    "#### 15. Now we want to label the values in *d*. First create an empty array *f* with the same shape (i.e. 2x3x5) as *d* using `np.empty`.\n"
   ]
  },
  {
   "cell_type": "code",
   "execution_count": 17,
   "metadata": {
    "Collapsed": "false"
   },
   "outputs": [
    {
     "name": "stdout",
     "output_type": "stream",
     "text": [
      "[[[1.24436632 1.4110992  1.9554217  1.09901926 1.4877428 ]\n",
      "  [1.89100815 1.958066   1.06683232 1.69440176 1.43544276]\n",
      "  [1.98845931 1.04930461 1.24905542 1.67249346 1.68906229]]\n",
      "\n",
      " [[1.86428527 1.56652319 1.7398499  1.06397734 1.57773291]\n",
      "  [1.96060752 1.86905277 1.12083262 1.80734617 1.92755942]\n",
      "  [1.76268678 1.20845626 1.03244946 1.02401333 1.73319135]]]\n"
     ]
    }
   ],
   "source": [
    "# your code here\n",
    "f=np.empty((2,3,5))\n",
    "print(f)"
   ]
  },
  {
   "cell_type": "markdown",
   "metadata": {
    "Collapsed": "false"
   },
   "source": [
    "#### 16. Populate the values in *f*. \n",
    "\n",
    "For each value in *d*, if it's larger than *d_min* but smaller than *d_mean*, assign 25 to the corresponding value in *f*. If a value in *d* is larger than *d_mean* but smaller than *d_max*, assign 75 to the corresponding value in *f*. If a value equals to *d_mean*, assign 50 to the corresponding value in *f*. Assign 0 to the corresponding value(s) in *f* for *d_min* in *d*. Assign 100 to the corresponding value(s) in *f* for *d_max* in *d*. In the end, f should have only the following values: 0, 25, 50, 75, and 100.\n",
    "\n",
    "**Note**: you don't have to use Numpy in this question."
   ]
  },
  {
   "cell_type": "code",
   "execution_count": 18,
   "metadata": {
    "Collapsed": "false"
   },
   "outputs": [
    {
     "name": "stdout",
     "output_type": "stream",
     "text": [
      "[[[1.24436632 1.4110992  1.9554217  1.09901926 1.4877428 ]\n",
      "  [1.89100815 1.958066   1.06683232 1.69440176 1.43544276]\n",
      "  [1.98845931 1.04930461 1.24905542 1.67249346 1.68906229]]\n",
      "\n",
      " [[1.86428527 1.56652319 1.7398499  1.06397734 1.57773291]\n",
      "  [1.96060752 1.86905277 1.12083262 1.80734617 1.92755942]\n",
      "  [1.76268678 1.20845626 1.03244946 1.02401333 1.73319135]]]\n",
      "(2, 3, 5)\n",
      "\n",
      "\n",
      "\n",
      "\n",
      "1.9884593091369247\n",
      "1.0240133277471508\n",
      "1.5383446542882067\n",
      "\n",
      "\n",
      "\n",
      "\n",
      "[[[ 25.  25.  75.  25.  25.]\n",
      "  [ 75.  75.  25.  75.  25.]\n",
      "  [100.  25.  25.  75.  75.]]\n",
      "\n",
      " [[ 75.  75.  75.  25.  75.]\n",
      "  [ 75.  75.  25.  75.  75.]\n",
      "  [ 75.  25.  25.   0.  75.]]]\n",
      "(2, 3, 5)\n"
     ]
    }
   ],
   "source": [
    "# your code here\n",
    "\n",
    "#f is empty array , d is sum of a+c(ones)\n",
    "\n",
    "# value > d_min and value < d_mean then = 25\n",
    "# value > d_min and value < d_max then = 75\n",
    "# value == d_mean then = 50\n",
    "# value == d_min then = 0\n",
    "# value == d_max then = 100\n",
    "\n",
    "print(d)\n",
    "print(np.shape(d))\n",
    "print(\"\\n\"*3)   \n",
    "\n",
    "print(d_max)\n",
    "print(d_min)\n",
    "print(d_mean)\n",
    "\n",
    "print(\"\\n\"*3)\n",
    "\n",
    "for i in range(0,len(d)):\n",
    "    for j in range(0,len(d[i])):\n",
    "        for k in range(0,len(d[i][j])):\n",
    "            if d[i][j][k] > d_min and d[i][j][k] < d_mean:\n",
    "                q = 25\n",
    "                f[i][j][k] = np.array(q)\n",
    "            elif d[i][j][k] > d_min and d[i][j][k] < d_max:\n",
    "                q = 75\n",
    "                f[i][j][k] = np.array(q)\n",
    "            elif d[i][j][k] == d_mean:\n",
    "                q = 50\n",
    "                f[i][j][k] = np.array(q)\n",
    "            elif d[i][j][k] == d_min:\n",
    "                q = 0\n",
    "                f[i][j][k] = np.array(q)\n",
    "            elif d[i][j][k] == d_max:\n",
    "                q = 100\n",
    "                f[i][j][k] = np.array(q)\n",
    "\n",
    "print(f)\n",
    "print(np.shape(f))"
   ]
  },
  {
   "cell_type": "markdown",
   "metadata": {},
   "source": [
    "\n",
    "#### 17. Print d and f. Do you have your expected f?\n",
    "For instance, if your d is:\n",
    "\n",
    "[[[1.85836099, 1.67064465, 1.62576044, 1.40243961, 1.88454931],\n",
    "[1.75354326, 1.69403643, 1.36729252, 1.61415071, 1.12104981],\n",
    "[1.72201435, 1.1862918 , 1.87078449, 1.7726778 , 1.88180042]],\n",
    "[[1.44747908, 1.31673383, 1.02000951, 1.52218947, 1.97066381],\n",
    "[1.79129243, 1.74983003, 1.96028037, 1.85166831, 1.65450881],\n",
    "[1.18068344, 1.9587381 , 1.00656599, 1.93402165, 1.73514584]]]\n",
    "Your f should be:\n",
    "\n",
    "[[[ 75.,  75.,  75.,  25.,  75.],\n",
    "[ 75.,  75.,  25.,  25.,  25.],\n",
    "[ 75.,  25.,  75.,  75.,  75.]],\n",
    "[[ 25.,  25.,  25.,  25., 100.],\n",
    "[ 75.,  75.,  75.,  75.,  75.],\n",
    "[ 25.,  75.,   0.,  75.,  75.]]]"
   ]
  },
  {
   "cell_type": "code",
   "execution_count": 19,
   "metadata": {
    "Collapsed": "false"
   },
   "outputs": [
    {
     "name": "stdout",
     "output_type": "stream",
     "text": [
      "[[[1.24436632 1.4110992  1.9554217  1.09901926 1.4877428 ]\n",
      "  [1.89100815 1.958066   1.06683232 1.69440176 1.43544276]\n",
      "  [1.98845931 1.04930461 1.24905542 1.67249346 1.68906229]]\n",
      "\n",
      " [[1.86428527 1.56652319 1.7398499  1.06397734 1.57773291]\n",
      "  [1.96060752 1.86905277 1.12083262 1.80734617 1.92755942]\n",
      "  [1.76268678 1.20845626 1.03244946 1.02401333 1.73319135]]]\n",
      "[[[ 25.  25.  75.  25.  25.]\n",
      "  [ 75.  75.  25.  75.  25.]\n",
      "  [100.  25.  25.  75.  75.]]\n",
      "\n",
      " [[ 75.  75.  75.  25.  75.]\n",
      "  [ 75.  75.  25.  75.  75.]\n",
      "  [ 75.  25.  25.   0.  75.]]]\n"
     ]
    }
   ],
   "source": [
    "# your code here\n",
    "print(d)\n",
    "print(f)\n",
    "\n",
    "#Yes I believe.. I randomly checked few elements from 'f' for instance 0, 100 etc - all looks matched."
   ]
  },
  {
   "cell_type": "markdown",
   "metadata": {
    "Collapsed": "false"
   },
   "source": [
    "#### 18. Bonus question: instead of using numbers (i.e. 0, 25, 50, 75, and 100), use string values  (\"A\", \"B\", \"C\", \"D\", and \"E\") to label the array elements. For the example above, the expected result is:\n",
    "\n",
    "```python\n",
    "[[[ 'D',  'D',  'D',  'B',  'D'],\n",
    "[ 'D',  'D',  'B',  'B',  'B'],\n",
    "[ 'D',  'B',  'D',  'D',  'D']],\n",
    "[[ 'B',  'B',  'B',  'B',  'E'],\n",
    "[ 'D',  'D',  'D',  'D',  'D'],\n",
    "[ 'B',  'D',   'A',  'D', 'D']]]\n",
    "```\n",
    "**Note**: you don't have to use Numpy in this question."
   ]
  },
  {
   "cell_type": "code",
   "execution_count": 20,
   "metadata": {
    "Collapsed": "false"
   },
   "outputs": [
    {
     "name": "stdout",
     "output_type": "stream",
     "text": [
      "[[['A' 'A' 'D' 'A' 'A']\n",
      "  ['D' 'D' 'A' 'D' 'A']\n",
      "  ['E' 'A' 'A' 'D' 'D']]\n",
      "\n",
      " [['D' 'D' 'D' 'A' 'D']\n",
      "  ['D' 'D' 'A' 'D' 'D']\n",
      "  ['D' 'A' 'A' 'A' 'D']]]\n",
      "(2, 3, 5)\n"
     ]
    }
   ],
   "source": [
    "# your code here\n",
    "\n",
    "# 0=A, 25=B, 50=C, 75=D, and 100=E\n",
    "\n",
    "import sys\n",
    "\n",
    "f=np.empty((2,3,5),dtype=\"S\")\n",
    "\n",
    "for i in range(0,len(d)):\n",
    "    for j in range(0,len(d[i])):\n",
    "        for k in range(0,len(d[i][j])):\n",
    "            if d[i][j][k] > d_min and d[i][j][k] < d_mean:\n",
    "                #q = 25\n",
    "                f[i][j][k] = np.array(\"A\")\n",
    "            elif d[i][j][k] > d_min and d[i][j][k] < d_max:\n",
    "                #q = 75\n",
    "                f[i][j][k] = np.array(\"D\")\n",
    "            elif d[i][j][k] == d_mean:\n",
    "                #q = 50\n",
    "                f[i][j][k] = np.array(\"C\")\n",
    "            elif d[i][j][k] == d_min:\n",
    "                #q = 0\n",
    "                f[i][j][k] = np.array(\"A\")\n",
    "            elif d[i][j][k] == d_max:\n",
    "                #q = 100\n",
    "                f[i][j][k] = np.array(\"E\")\n",
    "\n",
    "#print(f)\n",
    "f = f.astype(str)\n",
    "print(f)\n",
    "print(np.shape(f))"
   ]
  }
 ],
 "metadata": {
  "kernelspec": {
   "display_name": "Python 3",
   "language": "python",
   "name": "python3"
  },
  "language_info": {
   "codemirror_mode": {
    "name": "ipython",
    "version": 3
   },
   "file_extension": ".py",
   "mimetype": "text/x-python",
   "name": "python",
   "nbconvert_exporter": "python",
   "pygments_lexer": "ipython3",
   "version": "3.7.4"
  }
 },
 "nbformat": 4,
 "nbformat_minor": 4
}
